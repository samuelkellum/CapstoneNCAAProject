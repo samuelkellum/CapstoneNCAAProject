{
 "cells": [
  {
   "cell_type": "code",
   "execution_count": 1,
   "id": "6de87f0a",
   "metadata": {},
   "outputs": [],
   "source": [
    "#%pip install requests\n",
    "#%pip install lxml\n",
    "#%pip install openpyxl\n",
    "import lxml\n",
    "import requests\n",
    "import pandas as pd\n",
    "from bs4 import BeautifulSoup\n",
    "import numpy as np\n",
    "import os\n",
    "#Gets the table from one year of data\n",
    "def get_table(url, attribute_name, table_name):\n",
    "    r = requests.get(url, headers={\"User-Agent\": \"Mozilla/5.0 (Macintosh; Intel Mac OS X 10_15_7) AppleWebKit/537.36 (KHTML, like Gecko) Chrome/107.0.0.0 Safari/537.36\"})\n",
    "    soup = BeautifulSoup(r.content, \"html.parser\")\n",
    "    table = soup.find(\"table\", {attribute_name: table_name})\n",
    "    return table\n",
    "\n",
    "#Tidys table into usable DataFrame\n",
    "def get_pomeroy_df(url):\n",
    "    table = get_table(url, \"id\", \"ratings-table\")    \n",
    "    df = pd.read_html(str(table))[0]\n",
    "    col_names = [\"Rank\", \"TeamName\", \"Conf\", \"W-L\", \"AdjEM\", \"AdjO\", \"AdjO Rank\", \"AdjD\", \"AdjD Rank\", \"AdjT\", \"AdjT Rank\", \"Luck\", \"Luck Rank\", \"AdjEM\", \"AdjEM Rank\", \"OppO\", \"OppO Rank\", \"OppD\", \"OppD Rank\", \"AdjEM\", \"AdjEM Rank\"]\n",
    "    df.columns = col_names\n",
    "    \n",
    "    #Remove teams without seeding\n",
    "    df = df[df['TeamName'].str[-1].str.isdigit() == True].reset_index(drop=True)\n",
    "    \n",
    "    df[['TeamName','Seed']] = df[\"TeamName\"].str.rsplit(\" \", n=1, expand=True)\n",
    "    \n",
    "    return df\n",
    "\n",
    "#Parse dataframes from range of years, excluding 2020\n",
    "def pomeroy_get_multiple_years(start, end):\n",
    "    dfs = []\n",
    "    for year in range(start, end+1):\n",
    "        #Exclude 2020 data since there was no tournament this year\n",
    "        if year != 2020:\n",
    "            df = get_pomeroy_df(f\"https://kenpom.com/index.php?y={year}\")\n",
    "            df[\"Year\"] = year\n",
    "            dfs.append(df)\n",
    "    df = pd.concat(dfs).reset_index(drop=True)\n",
    "    return df"
   ]
  },
  {
   "cell_type": "code",
   "execution_count": 2,
   "id": "2be24032",
   "metadata": {},
   "outputs": [],
   "source": [
    "def get_betting_odds_table_html(url):\n",
    "    table = get_table(url, \"class\", \"soh1\")\n",
    "    return table\n",
    "\n",
    "def write_to_html(table, year):\n",
    "    path = os.getcwd()\n",
    "    new_path = os.path.relpath(f'../data/betting_data/html/{year}_betting_odds_table.html', path)\n",
    "    html_writer = open(new_path,\"w\")\n",
    "    html_writer.write(str(table))\n",
    "    html_writer.close()"
   ]
  },
  {
   "cell_type": "code",
   "execution_count": 3,
   "id": "2c14ca84",
   "metadata": {},
   "outputs": [],
   "source": [
    "def write_to_html_years(start, end):\n",
    "    for year in range(start, end+1):\n",
    "        #Exclude 2020 data since there was no tournament this year\n",
    "        if year != 2020:\n",
    "            table = get_betting_odds_table_html(f\"https://www.sportsoddshistory.com/cbb-main/?y={year-1}-{year}&sa=cbb&a=nc&o=r\")\n",
    "            write_to_html(table, year)"
   ]
  },
  {
   "cell_type": "code",
   "execution_count": 4,
   "id": "ddf167cb",
   "metadata": {},
   "outputs": [],
   "source": [
    "def excel_to_dataframe(year):\n",
    "    path = os.getcwd()\n",
    "    new_path = os.path.relpath(f'../data/betting_data/excel/{year}_betting_odds_table.xlsx', path)\n",
    "    df = pd.read_excel(new_path)\n",
    "    df.at[1,\"Team\"] = \"Team\"\n",
    "    new_header = df.iloc[1]\n",
    "    df = df[2:] #take the data less the header row\n",
    "    df.columns = new_header\n",
    "    df = df[[\"Team\", \"Round 1\"]].replace(r'^\\s*$', np.nan, regex=True).dropna()\n",
    "    df.columns = [\"Team\", \"Round 1 Odds\"]\n",
    "    return df"
   ]
  },
  {
   "cell_type": "code",
   "execution_count": 5,
   "id": "da41c08d",
   "metadata": {},
   "outputs": [],
   "source": [
    "def get_betting_df(start, end):\n",
    "    dfs = []\n",
    "    for year in range(start, end+1):\n",
    "        #Exclude 2020 data since there was no tournament this year\n",
    "        if year != 2020:\n",
    "            df = excel_to_dataframe(year)\n",
    "            df[\"Year\"] = year\n",
    "            dfs.append(df)\n",
    "    df = pd.concat(dfs).reset_index(drop=True)\n",
    "    return df"
   ]
  },
  {
   "cell_type": "code",
   "execution_count": 6,
   "id": "d397a623",
   "metadata": {},
   "outputs": [],
   "source": [
    "pomeroy_data = pomeroy_get_multiple_years(2002, 2022)\n",
    "#Pomeroy referes to the same school differently in different years, fixing this manually for the join to work\n",
    "pomeroy_data.at[119,\"TeamName\"] = \"Troy\""
   ]
  },
  {
   "cell_type": "code",
   "execution_count": 7,
   "id": "92e499c7",
   "metadata": {},
   "outputs": [],
   "source": [
    "pomeroy_data.to_csv(\"../data/pomeroy_data.csv\")"
   ]
  },
  {
   "cell_type": "code",
   "execution_count": 8,
   "id": "4fca4fdf",
   "metadata": {},
   "outputs": [],
   "source": [
    "write_to_html_years(2002, 2022)"
   ]
  },
  {
   "cell_type": "code",
   "execution_count": 9,
   "id": "29a0d7f1",
   "metadata": {},
   "outputs": [],
   "source": [
    "betting_data = get_betting_df(2002, 2022)"
   ]
  },
  {
   "cell_type": "code",
   "execution_count": 10,
   "id": "ea26423a",
   "metadata": {},
   "outputs": [],
   "source": [
    "betting_data.to_csv(\"../data/betting_data/betting_data.csv\")"
   ]
  }
 ],
 "metadata": {
  "kernelspec": {
   "display_name": "Python 3 (ipykernel)",
   "language": "python",
   "name": "python3"
  },
  "language_info": {
   "codemirror_mode": {
    "name": "ipython",
    "version": 3
   },
   "file_extension": ".py",
   "mimetype": "text/x-python",
   "name": "python",
   "nbconvert_exporter": "python",
   "pygments_lexer": "ipython3",
   "version": "3.10.7"
  }
 },
 "nbformat": 4,
 "nbformat_minor": 5
}
