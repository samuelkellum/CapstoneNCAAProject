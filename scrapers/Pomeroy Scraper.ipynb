{
 "cells": [
  {
   "cell_type": "code",
   "execution_count": 1,
   "id": "6de87f0a",
   "metadata": {},
   "outputs": [],
   "source": [
    "#%pip install requests\n",
    "#%pip install lxml\n",
    "import lxml\n",
    "import requests\n",
    "import pandas as pd\n",
    "from bs4 import BeautifulSoup\n",
    "#Gets the table from one year ofdata\n",
    "def get_ratings(url):\n",
    "    r = requests.get(url, headers={\"User-Agent\": \"Mozilla/5.0 (Macintosh; Intel Mac OS X 10_15_7) AppleWebKit/537.36 (KHTML, like Gecko) Chrome/107.0.0.0 Safari/537.36\"})\n",
    "    soup = BeautifulSoup(r.content, \"html.parser\")\n",
    "    table = soup.find(\"table\", {\"id\": \"ratings-table\"})\n",
    "    \n",
    "    df = pd.read_html(str(table))[0]\n",
    "    col_names = [\"Rk\", \"Team\", \"Conf\", \"W-L\", \"AdjEM\", \"AdjO\", \"AdjO Rank\", \"AdjD\", \"AdjD Rank\", \"AdjT\", \"AdjT Rank\", \"Luck\", \"Luck Rank\", \"AdjEM\", \"AdjEM Rank\", \"OppO\", \"OppO Rank\", \"OppD\", \"OppD Rank\", \"AdjEM\", \"AdjEM Rank\"]\n",
    "    df.columns = col_names\n",
    "    \n",
    "    #Remove teams without seeding\n",
    "    df = df[df['Team'].str[-1].str.isdigit() == True].reset_index(drop=True)\n",
    "    \n",
    "    df[['Team','Seed']] = df[\"Team\"].str.rsplit(\" \", n=1, expand=True)\n",
    "    \n",
    "    return df\n",
    "\n",
    "def get_multiple_years(start, end):\n",
    "    dfs = []\n",
    "    for year in range(start, end+1):\n",
    "        #Exclude 2020 data since there was no tournament this year\n",
    "        if year != 2020:\n",
    "            df = get_ratings(f\"https://kenpom.com/index.php?y={year}\")\n",
    "            df[\"Year\"] = year\n",
    "            dfs.append(df)\n",
    "    df = pd.concat(dfs).reset_index(drop=True)\n",
    "    return df"
   ]
  },
  {
   "cell_type": "code",
   "execution_count": 2,
   "id": "95315d67",
   "metadata": {},
   "outputs": [],
   "source": [
    "pomeroy_data = get_multiple_years(2002, 2022)"
   ]
  },
  {
   "cell_type": "code",
   "execution_count": 3,
   "id": "2be24032",
   "metadata": {},
   "outputs": [],
   "source": [
    "pomeroy_data.to_csv(\"pomeroy_data.csv\")"
   ]
  }
 ],
 "metadata": {
  "kernelspec": {
   "display_name": "Python 3 (ipykernel)",
   "language": "python",
   "name": "python3"
  },
  "language_info": {
   "codemirror_mode": {
    "name": "ipython",
    "version": 3
   },
   "file_extension": ".py",
   "mimetype": "text/x-python",
   "name": "python",
   "nbconvert_exporter": "python",
   "pygments_lexer": "ipython3",
   "version": "3.10.7"
  }
 },
 "nbformat": 4,
 "nbformat_minor": 5
}
