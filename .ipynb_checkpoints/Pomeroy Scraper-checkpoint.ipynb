{
 "cells": [
  {
   "cell_type": "code",
   "execution_count": 5,
   "id": "6de87f0a",
   "metadata": {},
   "outputs": [],
   "source": [
    "#%pip install requests\n",
    "#%pip install lxml\n",
    "import lxml\n",
    "import requests\n",
    "import pandas as pd\n",
    "from bs4 import BeautifulSoup\n",
    "def get_ratings(url):\n",
    "    r = requests.get(url, headers={\"User-Agent\": \"Mozilla/5.0 (Macintosh; Intel Mac OS X 10_15_7) AppleWebKit/537.36 (KHTML, like Gecko) Chrome/107.0.0.0 Safari/537.36\"})\n",
    "    soup = BeautifulSoup(r.content, \"html.parser\")\n",
    "    table = soup.find(\"table\", {\"id\": \"ratings-table\"})\n",
    "    df = pd.read_html(str(table))[0]\n",
    "    return df"
   ]
  },
  {
   "cell_type": "code",
   "execution_count": 7,
   "id": "95315d67",
   "metadata": {},
   "outputs": [],
   "source": [
    "df = get_ratings(\"https://kenpom.com/\")\n",
    "df.to_csv(\"pomeroy.csv\")"
   ]
  },
  {
   "cell_type": "code",
   "execution_count": null,
   "id": "032bfe5f",
   "metadata": {},
   "outputs": [],
   "source": []
  }
 ],
 "metadata": {
  "kernelspec": {
   "display_name": "Python 3 (ipykernel)",
   "language": "python",
   "name": "python3"
  },
  "language_info": {
   "codemirror_mode": {
    "name": "ipython",
    "version": 3
   },
   "file_extension": ".py",
   "mimetype": "text/x-python",
   "name": "python",
   "nbconvert_exporter": "python",
   "pygments_lexer": "ipython3",
   "version": "3.10.7"
  }
 },
 "nbformat": 4,
 "nbformat_minor": 5
}
