{
 "cells": [
  {
   "cell_type": "code",
   "execution_count": 1,
   "metadata": {
    "id": "ABQwOYPtPs-I"
   },
   "outputs": [],
   "source": [
    "import os\n",
    "import re\n",
    "import sklearn\n",
    "import numpy as np \n",
    "import pandas as pd\n",
    "\n",
    "from collections import Counter\n",
    "from sklearn.metrics import *\n",
    "from sklearn.linear_model import *\n",
    "from sklearn.model_selection import train_test_split\n",
    "from sklearn.preprocessing import StandardScaler"
   ]
  },
  {
   "cell_type": "markdown",
   "metadata": {
    "id": "rf0lnXlmQU29"
   },
   "source": [
    "## Data Preparation"
   ]
  },
  {
   "cell_type": "markdown",
   "metadata": {
    "id": "hrf6Go7BaZ7G"
   },
   "source": [
    "### Seeds"
   ]
  },
  {
   "cell_type": "code",
   "execution_count": 2,
   "metadata": {
    "colab": {
     "base_uri": "https://localhost:8080/",
     "height": 353
    },
    "id": "MbrZd75IP4gj",
    "outputId": "1a810d29-9ad3-446c-e631-648f8660b394"
   },
   "outputs": [
    {
     "ename": "FileNotFoundError",
     "evalue": "[Errno 2] No such file or directory: 'data/2022_Stage1/MNCAATourneySeeds.csv'",
     "output_type": "error",
     "traceback": [
      "\u001b[0;31m---------------------------------------------------------------------------\u001b[0m",
      "\u001b[0;31mFileNotFoundError\u001b[0m                         Traceback (most recent call last)",
      "Cell \u001b[0;32mIn [2], line 1\u001b[0m\n\u001b[0;32m----> 1\u001b[0m df_seeds \u001b[38;5;241m=\u001b[39m pd\u001b[38;5;241m.\u001b[39mread_csv(\u001b[38;5;124m\"\u001b[39m\u001b[38;5;124mdata/2022_Stage1/MNCAATourneySeeds.csv\u001b[39m\u001b[38;5;124m\"\u001b[39m)\n\u001b[1;32m      2\u001b[0m df_seeds\u001b[38;5;241m.\u001b[39mhead()\n",
      "File \u001b[0;32m/usr/local/Cellar/jupyterlab/3.4.8/libexec/lib/python3.10/site-packages/pandas/util/_decorators.py:211\u001b[0m, in \u001b[0;36mdeprecate_kwarg.<locals>._deprecate_kwarg.<locals>.wrapper\u001b[0;34m(*args, **kwargs)\u001b[0m\n\u001b[1;32m    209\u001b[0m     \u001b[38;5;28;01melse\u001b[39;00m:\n\u001b[1;32m    210\u001b[0m         kwargs[new_arg_name] \u001b[38;5;241m=\u001b[39m new_arg_value\n\u001b[0;32m--> 211\u001b[0m \u001b[38;5;28;01mreturn\u001b[39;00m \u001b[43mfunc\u001b[49m\u001b[43m(\u001b[49m\u001b[38;5;241;43m*\u001b[39;49m\u001b[43margs\u001b[49m\u001b[43m,\u001b[49m\u001b[43m \u001b[49m\u001b[38;5;241;43m*\u001b[39;49m\u001b[38;5;241;43m*\u001b[39;49m\u001b[43mkwargs\u001b[49m\u001b[43m)\u001b[49m\n",
      "File \u001b[0;32m/usr/local/Cellar/jupyterlab/3.4.8/libexec/lib/python3.10/site-packages/pandas/util/_decorators.py:317\u001b[0m, in \u001b[0;36mdeprecate_nonkeyword_arguments.<locals>.decorate.<locals>.wrapper\u001b[0;34m(*args, **kwargs)\u001b[0m\n\u001b[1;32m    311\u001b[0m \u001b[38;5;28;01mif\u001b[39;00m \u001b[38;5;28mlen\u001b[39m(args) \u001b[38;5;241m>\u001b[39m num_allow_args:\n\u001b[1;32m    312\u001b[0m     warnings\u001b[38;5;241m.\u001b[39mwarn(\n\u001b[1;32m    313\u001b[0m         msg\u001b[38;5;241m.\u001b[39mformat(arguments\u001b[38;5;241m=\u001b[39marguments),\n\u001b[1;32m    314\u001b[0m         \u001b[38;5;167;01mFutureWarning\u001b[39;00m,\n\u001b[1;32m    315\u001b[0m         stacklevel\u001b[38;5;241m=\u001b[39mfind_stack_level(inspect\u001b[38;5;241m.\u001b[39mcurrentframe()),\n\u001b[1;32m    316\u001b[0m     )\n\u001b[0;32m--> 317\u001b[0m \u001b[38;5;28;01mreturn\u001b[39;00m \u001b[43mfunc\u001b[49m\u001b[43m(\u001b[49m\u001b[38;5;241;43m*\u001b[39;49m\u001b[43margs\u001b[49m\u001b[43m,\u001b[49m\u001b[43m \u001b[49m\u001b[38;5;241;43m*\u001b[39;49m\u001b[38;5;241;43m*\u001b[39;49m\u001b[43mkwargs\u001b[49m\u001b[43m)\u001b[49m\n",
      "File \u001b[0;32m/usr/local/Cellar/jupyterlab/3.4.8/libexec/lib/python3.10/site-packages/pandas/io/parsers/readers.py:950\u001b[0m, in \u001b[0;36mread_csv\u001b[0;34m(filepath_or_buffer, sep, delimiter, header, names, index_col, usecols, squeeze, prefix, mangle_dupe_cols, dtype, engine, converters, true_values, false_values, skipinitialspace, skiprows, skipfooter, nrows, na_values, keep_default_na, na_filter, verbose, skip_blank_lines, parse_dates, infer_datetime_format, keep_date_col, date_parser, dayfirst, cache_dates, iterator, chunksize, compression, thousands, decimal, lineterminator, quotechar, quoting, doublequote, escapechar, comment, encoding, encoding_errors, dialect, error_bad_lines, warn_bad_lines, on_bad_lines, delim_whitespace, low_memory, memory_map, float_precision, storage_options)\u001b[0m\n\u001b[1;32m    935\u001b[0m kwds_defaults \u001b[38;5;241m=\u001b[39m _refine_defaults_read(\n\u001b[1;32m    936\u001b[0m     dialect,\n\u001b[1;32m    937\u001b[0m     delimiter,\n\u001b[0;32m   (...)\u001b[0m\n\u001b[1;32m    946\u001b[0m     defaults\u001b[38;5;241m=\u001b[39m{\u001b[38;5;124m\"\u001b[39m\u001b[38;5;124mdelimiter\u001b[39m\u001b[38;5;124m\"\u001b[39m: \u001b[38;5;124m\"\u001b[39m\u001b[38;5;124m,\u001b[39m\u001b[38;5;124m\"\u001b[39m},\n\u001b[1;32m    947\u001b[0m )\n\u001b[1;32m    948\u001b[0m kwds\u001b[38;5;241m.\u001b[39mupdate(kwds_defaults)\n\u001b[0;32m--> 950\u001b[0m \u001b[38;5;28;01mreturn\u001b[39;00m \u001b[43m_read\u001b[49m\u001b[43m(\u001b[49m\u001b[43mfilepath_or_buffer\u001b[49m\u001b[43m,\u001b[49m\u001b[43m \u001b[49m\u001b[43mkwds\u001b[49m\u001b[43m)\u001b[49m\n",
      "File \u001b[0;32m/usr/local/Cellar/jupyterlab/3.4.8/libexec/lib/python3.10/site-packages/pandas/io/parsers/readers.py:605\u001b[0m, in \u001b[0;36m_read\u001b[0;34m(filepath_or_buffer, kwds)\u001b[0m\n\u001b[1;32m    602\u001b[0m _validate_names(kwds\u001b[38;5;241m.\u001b[39mget(\u001b[38;5;124m\"\u001b[39m\u001b[38;5;124mnames\u001b[39m\u001b[38;5;124m\"\u001b[39m, \u001b[38;5;28;01mNone\u001b[39;00m))\n\u001b[1;32m    604\u001b[0m \u001b[38;5;66;03m# Create the parser.\u001b[39;00m\n\u001b[0;32m--> 605\u001b[0m parser \u001b[38;5;241m=\u001b[39m \u001b[43mTextFileReader\u001b[49m\u001b[43m(\u001b[49m\u001b[43mfilepath_or_buffer\u001b[49m\u001b[43m,\u001b[49m\u001b[43m \u001b[49m\u001b[38;5;241;43m*\u001b[39;49m\u001b[38;5;241;43m*\u001b[39;49m\u001b[43mkwds\u001b[49m\u001b[43m)\u001b[49m\n\u001b[1;32m    607\u001b[0m \u001b[38;5;28;01mif\u001b[39;00m chunksize \u001b[38;5;129;01mor\u001b[39;00m iterator:\n\u001b[1;32m    608\u001b[0m     \u001b[38;5;28;01mreturn\u001b[39;00m parser\n",
      "File \u001b[0;32m/usr/local/Cellar/jupyterlab/3.4.8/libexec/lib/python3.10/site-packages/pandas/io/parsers/readers.py:1442\u001b[0m, in \u001b[0;36mTextFileReader.__init__\u001b[0;34m(self, f, engine, **kwds)\u001b[0m\n\u001b[1;32m   1439\u001b[0m     \u001b[38;5;28mself\u001b[39m\u001b[38;5;241m.\u001b[39moptions[\u001b[38;5;124m\"\u001b[39m\u001b[38;5;124mhas_index_names\u001b[39m\u001b[38;5;124m\"\u001b[39m] \u001b[38;5;241m=\u001b[39m kwds[\u001b[38;5;124m\"\u001b[39m\u001b[38;5;124mhas_index_names\u001b[39m\u001b[38;5;124m\"\u001b[39m]\n\u001b[1;32m   1441\u001b[0m \u001b[38;5;28mself\u001b[39m\u001b[38;5;241m.\u001b[39mhandles: IOHandles \u001b[38;5;241m|\u001b[39m \u001b[38;5;28;01mNone\u001b[39;00m \u001b[38;5;241m=\u001b[39m \u001b[38;5;28;01mNone\u001b[39;00m\n\u001b[0;32m-> 1442\u001b[0m \u001b[38;5;28mself\u001b[39m\u001b[38;5;241m.\u001b[39m_engine \u001b[38;5;241m=\u001b[39m \u001b[38;5;28;43mself\u001b[39;49m\u001b[38;5;241;43m.\u001b[39;49m\u001b[43m_make_engine\u001b[49m\u001b[43m(\u001b[49m\u001b[43mf\u001b[49m\u001b[43m,\u001b[49m\u001b[43m \u001b[49m\u001b[38;5;28;43mself\u001b[39;49m\u001b[38;5;241;43m.\u001b[39;49m\u001b[43mengine\u001b[49m\u001b[43m)\u001b[49m\n",
      "File \u001b[0;32m/usr/local/Cellar/jupyterlab/3.4.8/libexec/lib/python3.10/site-packages/pandas/io/parsers/readers.py:1729\u001b[0m, in \u001b[0;36mTextFileReader._make_engine\u001b[0;34m(self, f, engine)\u001b[0m\n\u001b[1;32m   1727\u001b[0m     is_text \u001b[38;5;241m=\u001b[39m \u001b[38;5;28;01mFalse\u001b[39;00m\n\u001b[1;32m   1728\u001b[0m     mode \u001b[38;5;241m=\u001b[39m \u001b[38;5;124m\"\u001b[39m\u001b[38;5;124mrb\u001b[39m\u001b[38;5;124m\"\u001b[39m\n\u001b[0;32m-> 1729\u001b[0m \u001b[38;5;28mself\u001b[39m\u001b[38;5;241m.\u001b[39mhandles \u001b[38;5;241m=\u001b[39m \u001b[43mget_handle\u001b[49m\u001b[43m(\u001b[49m\n\u001b[1;32m   1730\u001b[0m \u001b[43m    \u001b[49m\u001b[43mf\u001b[49m\u001b[43m,\u001b[49m\n\u001b[1;32m   1731\u001b[0m \u001b[43m    \u001b[49m\u001b[43mmode\u001b[49m\u001b[43m,\u001b[49m\n\u001b[1;32m   1732\u001b[0m \u001b[43m    \u001b[49m\u001b[43mencoding\u001b[49m\u001b[38;5;241;43m=\u001b[39;49m\u001b[38;5;28;43mself\u001b[39;49m\u001b[38;5;241;43m.\u001b[39;49m\u001b[43moptions\u001b[49m\u001b[38;5;241;43m.\u001b[39;49m\u001b[43mget\u001b[49m\u001b[43m(\u001b[49m\u001b[38;5;124;43m\"\u001b[39;49m\u001b[38;5;124;43mencoding\u001b[39;49m\u001b[38;5;124;43m\"\u001b[39;49m\u001b[43m,\u001b[49m\u001b[43m \u001b[49m\u001b[38;5;28;43;01mNone\u001b[39;49;00m\u001b[43m)\u001b[49m\u001b[43m,\u001b[49m\n\u001b[1;32m   1733\u001b[0m \u001b[43m    \u001b[49m\u001b[43mcompression\u001b[49m\u001b[38;5;241;43m=\u001b[39;49m\u001b[38;5;28;43mself\u001b[39;49m\u001b[38;5;241;43m.\u001b[39;49m\u001b[43moptions\u001b[49m\u001b[38;5;241;43m.\u001b[39;49m\u001b[43mget\u001b[49m\u001b[43m(\u001b[49m\u001b[38;5;124;43m\"\u001b[39;49m\u001b[38;5;124;43mcompression\u001b[39;49m\u001b[38;5;124;43m\"\u001b[39;49m\u001b[43m,\u001b[49m\u001b[43m \u001b[49m\u001b[38;5;28;43;01mNone\u001b[39;49;00m\u001b[43m)\u001b[49m\u001b[43m,\u001b[49m\n\u001b[1;32m   1734\u001b[0m \u001b[43m    \u001b[49m\u001b[43mmemory_map\u001b[49m\u001b[38;5;241;43m=\u001b[39;49m\u001b[38;5;28;43mself\u001b[39;49m\u001b[38;5;241;43m.\u001b[39;49m\u001b[43moptions\u001b[49m\u001b[38;5;241;43m.\u001b[39;49m\u001b[43mget\u001b[49m\u001b[43m(\u001b[49m\u001b[38;5;124;43m\"\u001b[39;49m\u001b[38;5;124;43mmemory_map\u001b[39;49m\u001b[38;5;124;43m\"\u001b[39;49m\u001b[43m,\u001b[49m\u001b[43m \u001b[49m\u001b[38;5;28;43;01mFalse\u001b[39;49;00m\u001b[43m)\u001b[49m\u001b[43m,\u001b[49m\n\u001b[1;32m   1735\u001b[0m \u001b[43m    \u001b[49m\u001b[43mis_text\u001b[49m\u001b[38;5;241;43m=\u001b[39;49m\u001b[43mis_text\u001b[49m\u001b[43m,\u001b[49m\n\u001b[1;32m   1736\u001b[0m \u001b[43m    \u001b[49m\u001b[43merrors\u001b[49m\u001b[38;5;241;43m=\u001b[39;49m\u001b[38;5;28;43mself\u001b[39;49m\u001b[38;5;241;43m.\u001b[39;49m\u001b[43moptions\u001b[49m\u001b[38;5;241;43m.\u001b[39;49m\u001b[43mget\u001b[49m\u001b[43m(\u001b[49m\u001b[38;5;124;43m\"\u001b[39;49m\u001b[38;5;124;43mencoding_errors\u001b[39;49m\u001b[38;5;124;43m\"\u001b[39;49m\u001b[43m,\u001b[49m\u001b[43m \u001b[49m\u001b[38;5;124;43m\"\u001b[39;49m\u001b[38;5;124;43mstrict\u001b[39;49m\u001b[38;5;124;43m\"\u001b[39;49m\u001b[43m)\u001b[49m\u001b[43m,\u001b[49m\n\u001b[1;32m   1737\u001b[0m \u001b[43m    \u001b[49m\u001b[43mstorage_options\u001b[49m\u001b[38;5;241;43m=\u001b[39;49m\u001b[38;5;28;43mself\u001b[39;49m\u001b[38;5;241;43m.\u001b[39;49m\u001b[43moptions\u001b[49m\u001b[38;5;241;43m.\u001b[39;49m\u001b[43mget\u001b[49m\u001b[43m(\u001b[49m\u001b[38;5;124;43m\"\u001b[39;49m\u001b[38;5;124;43mstorage_options\u001b[39;49m\u001b[38;5;124;43m\"\u001b[39;49m\u001b[43m,\u001b[49m\u001b[43m \u001b[49m\u001b[38;5;28;43;01mNone\u001b[39;49;00m\u001b[43m)\u001b[49m\u001b[43m,\u001b[49m\n\u001b[1;32m   1738\u001b[0m \u001b[43m\u001b[49m\u001b[43m)\u001b[49m\n\u001b[1;32m   1739\u001b[0m \u001b[38;5;28;01massert\u001b[39;00m \u001b[38;5;28mself\u001b[39m\u001b[38;5;241m.\u001b[39mhandles \u001b[38;5;129;01mis\u001b[39;00m \u001b[38;5;129;01mnot\u001b[39;00m \u001b[38;5;28;01mNone\u001b[39;00m\n\u001b[1;32m   1740\u001b[0m f \u001b[38;5;241m=\u001b[39m \u001b[38;5;28mself\u001b[39m\u001b[38;5;241m.\u001b[39mhandles\u001b[38;5;241m.\u001b[39mhandle\n",
      "File \u001b[0;32m/usr/local/Cellar/jupyterlab/3.4.8/libexec/lib/python3.10/site-packages/pandas/io/common.py:857\u001b[0m, in \u001b[0;36mget_handle\u001b[0;34m(path_or_buf, mode, encoding, compression, memory_map, is_text, errors, storage_options)\u001b[0m\n\u001b[1;32m    852\u001b[0m \u001b[38;5;28;01melif\u001b[39;00m \u001b[38;5;28misinstance\u001b[39m(handle, \u001b[38;5;28mstr\u001b[39m):\n\u001b[1;32m    853\u001b[0m     \u001b[38;5;66;03m# Check whether the filename is to be opened in binary mode.\u001b[39;00m\n\u001b[1;32m    854\u001b[0m     \u001b[38;5;66;03m# Binary mode does not support 'encoding' and 'newline'.\u001b[39;00m\n\u001b[1;32m    855\u001b[0m     \u001b[38;5;28;01mif\u001b[39;00m ioargs\u001b[38;5;241m.\u001b[39mencoding \u001b[38;5;129;01mand\u001b[39;00m \u001b[38;5;124m\"\u001b[39m\u001b[38;5;124mb\u001b[39m\u001b[38;5;124m\"\u001b[39m \u001b[38;5;129;01mnot\u001b[39;00m \u001b[38;5;129;01min\u001b[39;00m ioargs\u001b[38;5;241m.\u001b[39mmode:\n\u001b[1;32m    856\u001b[0m         \u001b[38;5;66;03m# Encoding\u001b[39;00m\n\u001b[0;32m--> 857\u001b[0m         handle \u001b[38;5;241m=\u001b[39m \u001b[38;5;28;43mopen\u001b[39;49m\u001b[43m(\u001b[49m\n\u001b[1;32m    858\u001b[0m \u001b[43m            \u001b[49m\u001b[43mhandle\u001b[49m\u001b[43m,\u001b[49m\n\u001b[1;32m    859\u001b[0m \u001b[43m            \u001b[49m\u001b[43mioargs\u001b[49m\u001b[38;5;241;43m.\u001b[39;49m\u001b[43mmode\u001b[49m\u001b[43m,\u001b[49m\n\u001b[1;32m    860\u001b[0m \u001b[43m            \u001b[49m\u001b[43mencoding\u001b[49m\u001b[38;5;241;43m=\u001b[39;49m\u001b[43mioargs\u001b[49m\u001b[38;5;241;43m.\u001b[39;49m\u001b[43mencoding\u001b[49m\u001b[43m,\u001b[49m\n\u001b[1;32m    861\u001b[0m \u001b[43m            \u001b[49m\u001b[43merrors\u001b[49m\u001b[38;5;241;43m=\u001b[39;49m\u001b[43merrors\u001b[49m\u001b[43m,\u001b[49m\n\u001b[1;32m    862\u001b[0m \u001b[43m            \u001b[49m\u001b[43mnewline\u001b[49m\u001b[38;5;241;43m=\u001b[39;49m\u001b[38;5;124;43m\"\u001b[39;49m\u001b[38;5;124;43m\"\u001b[39;49m\u001b[43m,\u001b[49m\n\u001b[1;32m    863\u001b[0m \u001b[43m        \u001b[49m\u001b[43m)\u001b[49m\n\u001b[1;32m    864\u001b[0m     \u001b[38;5;28;01melse\u001b[39;00m:\n\u001b[1;32m    865\u001b[0m         \u001b[38;5;66;03m# Binary mode\u001b[39;00m\n\u001b[1;32m    866\u001b[0m         handle \u001b[38;5;241m=\u001b[39m \u001b[38;5;28mopen\u001b[39m(handle, ioargs\u001b[38;5;241m.\u001b[39mmode)\n",
      "\u001b[0;31mFileNotFoundError\u001b[0m: [Errno 2] No such file or directory: 'data/2022_Stage1/MNCAATourneySeeds.csv'"
     ]
    }
   ],
   "source": [
    "df_seeds = pd.read_csv(\"../data/2022_Stage1/MNCAATourneySeeds.csv\")\n",
    "df_seeds.head()"
   ]
  },
  {
   "cell_type": "markdown",
   "metadata": {
    "id": "TGqZ-lYeaiCY"
   },
   "source": [
    "### Regular Season Results"
   ]
  },
  {
   "cell_type": "code",
   "execution_count": null,
   "metadata": {
    "id": "BX_rIwJ5QIzo"
   },
   "outputs": [],
   "source": [
    "df_season_results = pd.read_csv(\"data/2022_Stage1/MRegularSeasonCompactResults.csv\")\n",
    "df_season_results.drop(['WLoc', 'NumOT'], axis=1, inplace=True)"
   ]
  },
  {
   "cell_type": "code",
   "execution_count": null,
   "metadata": {
    "id": "MucXtd2GQQ3X"
   },
   "outputs": [],
   "source": [
    "df_season_results['ScoreDiff'] = df_season_results['WScore'] - df_season_results['LScore']"
   ]
  },
  {
   "cell_type": "code",
   "execution_count": null,
   "metadata": {
    "id": "jJdYd479QR6n",
    "outputId": "78fea20d-3d53-48fd-f635-f90aae392473"
   },
   "outputs": [],
   "source": [
    "df_season_results"
   ]
  },
  {
   "cell_type": "markdown",
   "metadata": {},
   "source": [
    "### Tournamet Results"
   ]
  },
  {
   "cell_type": "code",
   "execution_count": null,
   "metadata": {
    "id": "XSiVVcB2RNvP"
   },
   "outputs": [],
   "source": [
    "df_tourney_results = pd.read_csv(\"data/2022_Stage1/MNCAATourneyCompactResults.csv\")\n",
    "df_tourney_results.drop(['NumOT', 'WLoc'], axis=1, inplace=True)\n",
    "#Remove results before 2016 since FiveThirtyEight ratings don't start until 2016\n",
    "df_tourney_results = df_tourney_results[df_tourney_results['Season'] >= 2016].reset_index(drop=True)"
   ]
  },
  {
   "cell_type": "markdown",
   "metadata": {},
   "source": [
    "### FiveThirtyEight Ratings"
   ]
  },
  {
   "cell_type": "code",
   "execution_count": null,
   "metadata": {
    "id": "xada8kNTRUAo",
    "outputId": "f927ff0d-b265-4522-ab1c-05e72dd1a290"
   },
   "outputs": [],
   "source": [
    "df_538 = pd.read_csv(\"data/538ratingsMen.csv\")\n",
    "df_538.drop('TeamName', axis=1, inplace=True)\n",
    "df_538"
   ]
  },
  {
   "cell_type": "markdown",
   "metadata": {},
   "source": [
    "## Game Result Engineering"
   ]
  },
  {
   "cell_type": "markdown",
   "metadata": {
    "id": "px-wck19arQo"
   },
   "source": [
    "For each team for each season, we need to compute:\n",
    "\n",
    "<li>Number of wins</li>\n",
    "<li>Number of losses</li>\n",
    "<li>Average margin of victory</li>\n",
    "<li>Average margin of losses</li>\n",
    "\n",
    "In order to calculate the following features: \n",
    "<li>Win Percentage</li>\n",
    "<li>Average margin of victory/loss</li>"
   ]
  },
  {
   "cell_type": "code",
   "execution_count": null,
   "metadata": {
    "id": "VFOECknUQo4i",
    "outputId": "8a992830-8276-4257-be75-326f4ed21e65"
   },
   "outputs": [],
   "source": [
    "win_count = df_season_results.groupby(['Season', 'WTeamID']).count()\n",
    "win_count = win_count.reset_index()[['Season', 'WTeamID', 'DayNum']].rename(columns={\"DayNum\": \"WinCount\", \"WTeamID\": \"TeamID\"})\n",
    "win_count"
   ]
  },
  {
   "cell_type": "code",
   "execution_count": null,
   "metadata": {
    "id": "TRiovwEQQxsa",
    "outputId": "45e3d2d9-be72-47ec-c43c-3a4a80ebdbe8"
   },
   "outputs": [],
   "source": [
    "loss_count = df_season_results.groupby(['Season', 'LTeamID']).count()\n",
    "loss_count = loss_count.reset_index()[['Season', 'LTeamID', 'DayNum']].rename(columns={\"DayNum\": \"LossCount\", \"LTeamID\": \"TeamID\"})\n",
    "loss_count"
   ]
  },
  {
   "cell_type": "code",
   "execution_count": null,
   "metadata": {
    "id": "SSj9AS4vQzfu",
    "outputId": "dfdebe80-2927-4977-a25a-2a177d011e28"
   },
   "outputs": [],
   "source": [
    "win_margin = df_season_results.groupby(['Season', 'WTeamID']).mean().reset_index()\n",
    "win_margin = win_margin[['Season', 'WTeamID', 'ScoreDiff']].rename(columns={\"ScoreDiff\": \"AverageWinMargin\", \"WTeamID\": \"TeamID\"})\n",
    "win_margin"
   ]
  },
  {
   "cell_type": "code",
   "execution_count": null,
   "metadata": {
    "id": "5oDUBLxhQ1G1",
    "outputId": "f03215a1-6e6c-4ec9-da45-2f2b08ce57f1"
   },
   "outputs": [],
   "source": [
    "loss_margin = df_season_results.groupby(['Season', 'LTeamID']).mean().reset_index()\n",
    "loss_margin = loss_margin[['Season', 'LTeamID', 'ScoreDiff']].rename(columns={\"ScoreDiff\": \"AverageLossMargin\", \"LTeamID\": \"TeamID\"})\n",
    "loss_margin"
   ]
  },
  {
   "cell_type": "code",
   "execution_count": null,
   "metadata": {
    "id": "RGYnUYsWQ273",
    "outputId": "71f6bfe8-ab13-4e60-a9d7-3cef29fd3804"
   },
   "outputs": [],
   "source": [
    "df_features_season_wins = df_season_results.groupby(['Season', 'WTeamID']).count().reset_index()[['Season', 'WTeamID']].rename(columns={\"WTeamID\": \"TeamID\"})\n",
    "df_features_season_wins"
   ]
  },
  {
   "cell_type": "code",
   "execution_count": null,
   "metadata": {
    "id": "U_Bg7wsLXvEv",
    "outputId": "6355671e-de1e-4daf-b533-e1d74e6e2cbc"
   },
   "outputs": [],
   "source": [
    "df_features_season_losses = df_season_results.groupby(['Season', 'LTeamID']).count().reset_index()[['Season', 'LTeamID']].rename(columns={\"LTeamID\": \"TeamID\"})\n",
    "df_features_season_losses"
   ]
  },
  {
   "cell_type": "code",
   "execution_count": null,
   "metadata": {
    "id": "3Gi6M9AFQ6oE"
   },
   "outputs": [],
   "source": [
    "df_features_season = pd.concat([df_features_season_wins, df_features_season_losses], axis=0).drop_duplicates().sort_values(['Season', 'TeamID']).reset_index(drop=True)"
   ]
  },
  {
   "cell_type": "code",
   "execution_count": null,
   "metadata": {
    "id": "_fUmnHYxRFVk",
    "outputId": "9401710b-eb51-459c-b2cc-79bc621c0d75"
   },
   "outputs": [],
   "source": [
    "#Join all of the dataframes into one dataframe\n",
    "df_features_season = df_features_season.merge(win_count, on=['Season', 'TeamID'], how='left')\n",
    "df_features_season = df_features_season.merge(loss_count, on=['Season', 'TeamID'], how='left')\n",
    "df_features_season = df_features_season.merge(win_margin, on=['Season', 'TeamID'], how='left')\n",
    "df_features_season = df_features_season.merge(loss_margin, on=['Season', 'TeamID'], how='left')\n",
    "df_features_season.fillna(0, inplace=True)  \n",
    "df_features_season"
   ]
  },
  {
   "cell_type": "code",
   "execution_count": null,
   "metadata": {
    "id": "iAJwDmJQRMhy"
   },
   "outputs": [],
   "source": [
    "#Calculate win percentage from win and loss count\n",
    "df_features_season['WinPercentage'] = df_features_season['WinCount'] / (df_features_season['WinCount'] + df_features_season['LossCount'])"
   ]
  },
  {
   "cell_type": "code",
   "execution_count": null,
   "metadata": {},
   "outputs": [],
   "source": [
    "#Calculate average margin of victory/defeat \n",
    "df_features_season['GapAvg'] = (\n",
    "    (df_features_season['WinCount'] * df_features_season['AverageWinMargin'] - \n",
    "    df_features_season['LossCount'] * df_features_season['AverageLossMargin'])\n",
    "    / (df_features_season['WinCount'] + df_features_season['LossCount'])\n",
    ")"
   ]
  },
  {
   "cell_type": "code",
   "execution_count": null,
   "metadata": {
    "id": "6vHibMtmRNs5"
   },
   "outputs": [],
   "source": [
    "#Drop values we dont need after calculating win percentage and average margin of victory/defeat\n",
    "df_features_season.drop(['WinCount', 'LossCount', 'AverageWinMargin', 'AverageLossMargin'], axis=1, inplace=True)"
   ]
  },
  {
   "cell_type": "markdown",
   "metadata": {
    "id": "6D3XG-R6UeKC"
   },
   "source": [
    "## Feature Engineering"
   ]
  },
  {
   "cell_type": "markdown",
   "metadata": {
    "id": "vqxlOG7CUmV_"
   },
   "source": [
    "### Training Data"
   ]
  },
  {
   "cell_type": "code",
   "execution_count": null,
   "metadata": {
    "colab": {
     "base_uri": "https://localhost:8080/",
     "height": 204
    },
    "id": "s-aGpiXTRn0P",
    "outputId": "5921132d-30e7-4b7a-c0e9-b3e54794b9cd"
   },
   "outputs": [],
   "source": [
    "df = df_tourney_results.copy()\n",
    "df"
   ]
  },
  {
   "cell_type": "code",
   "execution_count": null,
   "metadata": {
    "id": "fWWbMMBHRxcn"
   },
   "outputs": [],
   "source": [
    "#Add SeedW column\n",
    "df = pd.merge(\n",
    "    df, \n",
    "    df_seeds, \n",
    "    how='left', \n",
    "    left_on=['Season', 'WTeamID'], \n",
    "    right_on=['Season', 'TeamID']\n",
    ").drop('TeamID', axis=1).rename(columns={'Seed': 'SeedW'})\n"
   ]
  },
  {
   "cell_type": "code",
   "execution_count": null,
   "metadata": {
    "id": "wA3gEYu-Rz2w"
   },
   "outputs": [],
   "source": [
    "#Add SeedL column\n",
    "df = pd.merge(\n",
    "    df, \n",
    "    df_seeds, \n",
    "    how='left', \n",
    "    left_on=['Season', 'LTeamID'], \n",
    "    right_on=['Season', 'TeamID']\n",
    ").drop('TeamID', axis=1).rename(columns={'Seed': 'SeedL'})\n"
   ]
  },
  {
   "cell_type": "code",
   "execution_count": null,
   "metadata": {
    "id": "mS0zB0LMR2Gm"
   },
   "outputs": [],
   "source": [
    "#Remove region and play in tournament marker from seed (Convert seed into ints)\n",
    "def seed_string_to_int(seed):\n",
    "    return int(re.sub(\"[^0-9]\", \"\", seed))"
   ]
  },
  {
   "cell_type": "code",
   "execution_count": null,
   "metadata": {
    "id": "dvkUKX3jR6Zw"
   },
   "outputs": [],
   "source": [
    "df['SeedW'] = df['SeedW'].apply(seed_string_to_int)\n",
    "df['SeedL'] = df['SeedL'].apply(seed_string_to_int)"
   ]
  },
  {
   "cell_type": "code",
   "execution_count": null,
   "metadata": {
    "id": "koUAQovyR7VQ"
   },
   "outputs": [],
   "source": [
    "df"
   ]
  },
  {
   "cell_type": "code",
   "execution_count": null,
   "metadata": {
    "id": "Wwhi03OpR7aR"
   },
   "outputs": [],
   "source": [
    "#Add WinPercentageW and GapAvgW columns\n",
    "df = pd.merge(\n",
    "    df,\n",
    "    df_features_season,\n",
    "    how='left',\n",
    "    left_on=['Season', 'WTeamID'],\n",
    "    right_on=['Season', 'TeamID']\n",
    ").rename(columns={\n",
    "    'WinCount': 'WinCountW',\n",
    "    'LossCount': 'LossCountW',\n",
    "    'AverageWinMargin': 'AverageWinMarginW',\n",
    "    'AverageLossMargin': 'AverageLossMarginW',\n",
    "    'WinPercentage': 'WinPercentageW',\n",
    "    'GapAvg': 'GapAvgW',\n",
    "}).drop(columns='TeamID', axis=1)"
   ]
  },
  {
   "cell_type": "code",
   "execution_count": null,
   "metadata": {
    "id": "kKhFoApyR7cp"
   },
   "outputs": [],
   "source": [
    "#Add WinPercentageL and GapAvgL columns\n",
    "df = pd.merge(\n",
    "    df,\n",
    "    df_features_season,\n",
    "    how='left',\n",
    "    left_on=['Season', 'LTeamID'],\n",
    "    right_on=['Season', 'TeamID']\n",
    ").rename(columns={\n",
    "    'WinCount': 'WinCountL',\n",
    "    'LossCount': 'LossCountL',\n",
    "    'AverageWinMargin': 'AverageWinMarginL',\n",
    "    'AverageLossMargin': 'AverageLossMarginL',\n",
    "    'WinPercentage': 'WinPercentageL',\n",
    "    'GapAvg': 'GapAvgL',\n",
    "}).drop(columns='TeamID', axis=1)"
   ]
  },
  {
   "cell_type": "code",
   "execution_count": null,
   "metadata": {
    "id": "gP-6tfUeR7e7"
   },
   "outputs": [],
   "source": [
    "df"
   ]
  },
  {
   "cell_type": "code",
   "execution_count": null,
   "metadata": {
    "id": "tD0xncVnR7g1"
   },
   "outputs": [],
   "source": [
    "#Add 538ratingW column\n",
    "df = pd.merge(\n",
    "    df,\n",
    "    df_538,\n",
    "    how='left',\n",
    "    left_on=['Season', 'WTeamID'],\n",
    "    right_on=['Season', 'TeamID']\n",
    ").drop('TeamID', axis=1).rename(columns={'538rating': '538ratingW'})"
   ]
  },
  {
   "cell_type": "code",
   "execution_count": null,
   "metadata": {
    "id": "DxsVi61zR7i4"
   },
   "outputs": [],
   "source": [
    "#Add 538ratingL column\n",
    "df = pd.merge(\n",
    "    df, \n",
    "    df_538, \n",
    "    how='left', \n",
    "    left_on=['Season', 'LTeamID'], \n",
    "    right_on=['Season', 'TeamID']\n",
    ").drop('TeamID', axis=1).rename(columns={'538rating': '538ratingL'})"
   ]
  },
  {
   "cell_type": "code",
   "execution_count": null,
   "metadata": {
    "id": "upWNkhl6R7k_"
   },
   "outputs": [],
   "source": [
    "df"
   ]
  },
  {
   "cell_type": "code",
   "execution_count": null,
   "metadata": {
    "id": "rtddrnKAR7nE"
   },
   "outputs": [],
   "source": [
    "def concact_win_loss_df(df):\n",
    "    #Convert win team to team A, loss team to team B \n",
    "    win_df = df.copy()\n",
    "    rename_win = {\n",
    "        \"WTeamID\": \"TeamIdA\", \n",
    "        \"WScore\" : \"ScoreA\", \n",
    "        \"LTeamID\" : \"TeamIdB\",\n",
    "        \"LScore\": \"ScoreB\",\n",
    "     }\n",
    "    \n",
    "    rename_win.update({col : col[:-1] + \"A\" for col in df.columns if col.endswith('W')})\n",
    "    rename_win.update({col : col[:-1] + \"B\" for col in df.columns if col.endswith('L')})\n",
    "    \n",
    "    win_df = win_df.rename(columns=rename_win)\n",
    "    \n",
    "    loss_df = df.copy()\n",
    "\n",
    "    rename_loss = {\n",
    "        \"WTeamID\": \"TeamIdB\", \n",
    "        \"WScore\" : \"ScoreB\", \n",
    "        \"LTeamID\" : \"TeamIdA\",\n",
    "        \"LScore\": \"ScoreA\",\n",
    "    }\n",
    "\n",
    "    rename_loss.update({col : col[:-1] + \"B\" for col in df.columns if col.endswith('W')})\n",
    "    rename_loss.update({col : col[:-1] + \"A\" for col in df.columns if col.endswith('L')})\n",
    "    \n",
    "    loss_df = loss_df.rename(columns=rename_loss)\n",
    "\n",
    "    \n",
    "    return pd.concat([win_df, loss_df], axis=0, sort=False)"
   ]
  },
  {
   "cell_type": "code",
   "execution_count": null,
   "metadata": {
    "id": "ZAyu4LgZR7pJ"
   },
   "outputs": [],
   "source": [
    "df = concact_win_loss_df(df)\n",
    "df"
   ]
  },
  {
   "cell_type": "markdown",
   "metadata": {
    "id": "XF9qEgRghAuX"
   },
   "source": [
    "#### Feature Differences"
   ]
  },
  {
   "cell_type": "code",
   "execution_count": null,
   "metadata": {
    "id": "NWo5c3nfhSY4"
   },
   "outputs": [],
   "source": [
    "df['ScoreDiff'] = df['ScoreA'] - df['ScoreB']\n",
    "df['WinA'] = (df['ScoreDiff'] > 0).astype(int)"
   ]
  },
  {
   "cell_type": "code",
   "execution_count": null,
   "metadata": {
    "id": "EXJwZKRgR7tU"
   },
   "outputs": [],
   "source": [
    "diff_cols = ['Seed', 'WinPercentage', 'GapAvg', '538rating']\n",
    "#Compute difference between team A and B for each feature\n",
    "for col in diff_cols:\n",
    "    df[col + 'Diff'] = df[col + 'A'] - df[col + 'B']"
   ]
  },
  {
   "cell_type": "code",
   "execution_count": null,
   "metadata": {},
   "outputs": [],
   "source": [
    "df"
   ]
  },
  {
   "cell_type": "markdown",
   "metadata": {
    "id": "RPisHVpmhgDt"
   },
   "source": [
    "### Test Data"
   ]
  },
  {
   "cell_type": "code",
   "execution_count": null,
   "metadata": {
    "id": "txCf0f5fR7vp"
   },
   "outputs": [],
   "source": [
    "df_test = pd.read_csv(\"data/2022_Stage1/MSampleSubmissionStage1.csv\")\n",
    "df_test"
   ]
  },
  {
   "cell_type": "code",
   "execution_count": null,
   "metadata": {
    "id": "l9v7ABV_R7xe"
   },
   "outputs": [],
   "source": [
    "df_test['Season'] = df_test['ID'].apply(lambda x: int(x.split('_')[0]))\n",
    "df_test['TeamIdA'] = df_test['ID'].apply(lambda x: int(x.split('_')[1]))\n",
    "df_test['TeamIdB'] = df_test['ID'].apply(lambda x: int(x.split('_')[2]))"
   ]
  },
  {
   "cell_type": "code",
   "execution_count": null,
   "metadata": {
    "id": "QmKp4QssR7z3"
   },
   "outputs": [],
   "source": [
    "df_test"
   ]
  },
  {
   "cell_type": "code",
   "execution_count": null,
   "metadata": {
    "id": "M9qDblEGR715"
   },
   "outputs": [],
   "source": [
    "#Add SeedA column\n",
    "df_test = pd.merge(\n",
    "    df_test,\n",
    "    df_seeds,\n",
    "    how='left',\n",
    "    left_on=['Season', 'TeamIdA'],\n",
    "    right_on=['Season', 'TeamID']\n",
    ").drop('TeamID', axis=1).rename(columns={'Seed': 'SeedA'})\n",
    "df_test"
   ]
  },
  {
   "cell_type": "code",
   "execution_count": null,
   "metadata": {
    "id": "91aip-6HR6a6"
   },
   "outputs": [],
   "source": [
    "#Add SeedB column\n",
    "df_test = pd.merge(\n",
    "    df_test, \n",
    "    df_seeds, \n",
    "    how='left', \n",
    "    left_on=['Season', 'TeamIdB'], \n",
    "    right_on=['Season', 'TeamID']\n",
    ").drop('TeamID', axis=1).rename(columns={'Seed': 'SeedB'})\n",
    "df_test"
   ]
  },
  {
   "cell_type": "code",
   "execution_count": null,
   "metadata": {
    "id": "ss_PXNHrSd3D"
   },
   "outputs": [],
   "source": [
    "#Convert seed strings into ints\n",
    "df_test['SeedA'] = df_test['SeedA'].apply(seed_string_to_int)\n",
    "df_test['SeedB'] = df_test['SeedB'].apply(seed_string_to_int)"
   ]
  },
  {
   "cell_type": "code",
   "execution_count": null,
   "metadata": {
    "id": "Z8l6QCu3Sd53"
   },
   "outputs": [],
   "source": [
    "#Add WinPercentageA and GapAvgA columns\n",
    "df_test = pd.merge(\n",
    "    df_test,\n",
    "    df_features_season,\n",
    "    how='left',\n",
    "    left_on=['Season', 'TeamIdA'],\n",
    "    right_on=['Season', 'TeamID']\n",
    ").rename(columns={\n",
    "    'WinCount': 'WinCountA',\n",
    "    'LossCount': 'LossCountA',\n",
    "    'AverageWinMargin': 'AverageWinMarginA',\n",
    "    'AverageLossMargin': 'AverageLossMarginA',\n",
    "    'WinPercentage': 'WinPercentageA',\n",
    "    'GapAvg': 'GapAvgA',\n",
    "}).drop(columns='TeamID', axis=1)\n",
    "df_test"
   ]
  },
  {
   "cell_type": "code",
   "execution_count": null,
   "metadata": {
    "id": "5roWc93OSd8l"
   },
   "outputs": [],
   "source": [
    "#Add WinPercentageB and GapAvgB columns\n",
    "df_test = pd.merge(\n",
    "    df_test,\n",
    "    df_features_season,\n",
    "    how='left',\n",
    "    left_on=['Season', 'TeamIdB'],\n",
    "    right_on=['Season', 'TeamID']\n",
    ").rename(columns={\n",
    "    'WinCount': 'WinCountB',\n",
    "    'LossCount': 'LossCountB',\n",
    "    'AverageWinMargin': 'AverageWinMarginB',\n",
    "    'AverageLossMargin': 'AverageLossMarginB',\n",
    "    'WinPercentage': 'WinPercentageB',\n",
    "    'GapAvg': 'GapAvgB',\n",
    "}).drop(columns='TeamID', axis=1)\n",
    "df_test"
   ]
  },
  {
   "cell_type": "code",
   "execution_count": null,
   "metadata": {
    "id": "EYWzqsrWSd-N"
   },
   "outputs": [],
   "source": [
    "#Add 538ratingA column\n",
    "df_test = pd.merge(\n",
    "    df_test,\n",
    "    df_538,\n",
    "    how='left',\n",
    "    left_on=['Season', 'TeamIdA'],\n",
    "    right_on=['Season', 'TeamID']\n",
    ").drop('TeamID', axis=1).rename(columns={'538rating': '538ratingA'})\n",
    "df_test"
   ]
  },
  {
   "cell_type": "code",
   "execution_count": null,
   "metadata": {
    "id": "gIM13jBkSeAW"
   },
   "outputs": [],
   "source": [
    "#Add 538ratingB column\n",
    "df_test = pd.merge(\n",
    "    df_test,\n",
    "    df_538,\n",
    "    how='left',\n",
    "    left_on=['Season', 'TeamIdB'],\n",
    "    right_on=['Season', 'TeamID']\n",
    ").drop('TeamID', axis=1).rename(columns={'538rating': '538ratingB'})\n",
    "df_test"
   ]
  },
  {
   "cell_type": "code",
   "execution_count": null,
   "metadata": {
    "id": "1M6GH821SeCe"
   },
   "outputs": [],
   "source": [
    "#Compute difference between team A and B for each feature\n",
    "for col in diff_cols:\n",
    "    df_test[col + 'Diff'] = df_test[col + 'A'] - df_test[col + 'B']"
   ]
  },
  {
   "cell_type": "code",
   "execution_count": null,
   "metadata": {
    "id": "0C89hWCNSeEh"
   },
   "outputs": [],
   "source": [
    "df_test"
   ]
  },
  {
   "cell_type": "markdown",
   "metadata": {
    "id": "BWH8VulWks-Q"
   },
   "source": [
    "## Modeling"
   ]
  },
  {
   "cell_type": "code",
   "execution_count": null,
   "metadata": {
    "id": "T_mdgKLxSp8i"
   },
   "outputs": [],
   "source": [
    "features = ['SeedDiff', '538ratingDiff', 'WinPercentageDiff', 'GapAvgDiff']"
   ]
  },
  {
   "cell_type": "code",
   "execution_count": null,
   "metadata": {
    "id": "3ySGG33mSp9q"
   },
   "outputs": [],
   "source": [
    "#Rescale train, test, and val data w/ features\n",
    "def rescale(features, df_train, df_val, df_test=None):\n",
    "    min_value = df_train[features].min()\n",
    "    max_value = df_train[features].max()\n",
    "    \n",
    "    df_train[features] = (df_train[features] - min_value) / (max_value - min_value)\n",
    "    df_val[features] = (df_val[features] - min_value) / (max_value - min_value)\n",
    "    \n",
    "    if df_test is not None:\n",
    "        df_test[features] = (df_test[features] - min_value) / (max_value - min_value)\n",
    "        \n",
    "    return df_test, df_val, df_train"
   ]
  },
  {
   "cell_type": "code",
   "execution_count": null,
   "metadata": {
    "id": "sdIj0iaiSp_o"
   },
   "outputs": [],
   "source": [
    "#Cross-validates data using k-fold method\n",
    "def kfold_validation(df, df_test=None, verbose=0, mode=\"reg\"):\n",
    "    seasons = df['Season'].unique()\n",
    "    log_loss_scores = []\n",
    "    pred_win_probabilities = []\n",
    "    target_y = \"ScoreDiff\" if mode == \"reg\" else \"WinA\"\n",
    "    \n",
    "    for season in seasons[1:]:        \n",
    "        #Training data uses the previous season\n",
    "        df_train = df[df['Season'] < season].reset_index(drop=True).copy()\n",
    "        \n",
    "        #Validation data uses the current season\n",
    "        df_val = df[df['Season'] == season].reset_index(drop=True).copy()\n",
    "        df_test = df_test.copy()\n",
    "        \n",
    "        df_test, df_val, df_train = rescale(features, df_train, df_val, df_test)\n",
    "        \n",
    "        if mode == \"reg\":\n",
    "            model = LinearRegression()\n",
    "        elif mode == \"cls\":\n",
    "            model = LogisticRegression()\n",
    "\n",
    "        model.fit(df_train[features], df_train[target_y])\n",
    "        \n",
    "        if mode == \"reg\":\n",
    "            pred = model.predict(df_val[features])\n",
    "            pred = (pred - pred.min()) / (pred.max() - pred.min())\n",
    "        elif mode == \"cls\":\n",
    "            pred = model.predict_proba(df_val[features])[:, 1]\n",
    "        \n",
    "        if df_test is not None:\n",
    "            if mode == \"reg\":\n",
    "                pred_win_probability = model.predict(df_test[features])\n",
    "                pred_win_probability = (pred_win_probability - pred_win_probability.min()) / (pred_win_probability.max() - pred_win_probability.min())\n",
    "            elif mode == \"cls\":\n",
    "                pred_win_probability = model.predict_proba(df_test[features])[:, 1]\n",
    "                \n",
    "            pred_win_probabilities.append(pred_win_probability)\n",
    "        \n",
    "        log_loss_score = log_loss(df_val['WinA'].values, pred)\n",
    "        log_loss_scores.append(log_loss_score)\n",
    "        \n",
    "        #Log loss score for the current season, prints if verbose value truthy\n",
    "        if verbose:\n",
    "            print(f'Log loss score for season {season}: {round(log_loss_score, 3)}')\n",
    "    #Prints summary results if verbose value truthy\n",
    "    if verbose:\n",
    "        print(f'Average log loss score: {np.mean(log_loss_scores):.3f}')\n",
    "\n",
    "    return pred_win_probabilities"
   ]
  },
  {
   "cell_type": "code",
   "execution_count": null,
   "metadata": {
    "id": "5b3PrbBs70fz",
    "outputId": "0c27cc9d-c094-42ce-8e06-98a2ae0c64ea"
   },
   "outputs": [],
   "source": [
    "kfold_validation(df, df_test, verbose=1, mode=\"reg\")"
   ]
  },
  {
   "cell_type": "code",
   "execution_count": null,
   "metadata": {
    "id": "fEt21-a9SqCF",
    "outputId": "b5a9586d-ba85-420e-c7e0-e04a0578bc51"
   },
   "outputs": [],
   "source": [
    "kfold_validation(df, df_test, verbose=1, mode=\"cls\")"
   ]
  },
  {
   "cell_type": "code",
   "execution_count": null,
   "metadata": {
    "id": "fpRQa2S_SqEC",
    "outputId": "08eb5ac8-613b-45e2-f93c-881e13ea3d1f",
    "scrolled": false
   },
   "outputs": [],
   "source": [
    "pred_tests = kfold_validation(df, df_test, verbose=0, mode=\"cls\")\n",
    "pred_test = np.mean(pred_tests, 0)"
   ]
  },
  {
   "cell_type": "code",
   "execution_count": null,
   "metadata": {
    "id": "9JjYmKikSqGE"
   },
   "outputs": [],
   "source": [
    "submission = df_test[['ID', 'Season', 'Pred', 'TeamIdA', 'TeamIdB', 'SeedA', 'SeedB']].copy()\n",
    "submission['Pred'] = pred_test"
   ]
  },
  {
   "cell_type": "code",
   "execution_count": null,
   "metadata": {
    "id": "MRYG0etxSqIh"
   },
   "outputs": [],
   "source": [
    "df_teams = pd.read_csv(\"data/2022_Stage1/MTeams.csv\")\n",
    "submission = submission.merge(df_teams, left_on=\"TeamIdA\", right_on=\"TeamID\").drop('TeamID', axis=1).rename(columns={\"TeamName\": \"TeamA\"})\n",
    "submission = submission.merge(df_teams, left_on=\"TeamIdB\", right_on=\"TeamID\").drop('TeamID', axis=1).rename(columns={\"TeamName\": \"TeamB\"})"
   ]
  },
  {
   "cell_type": "code",
   "execution_count": null,
   "metadata": {
    "id": "7sbrDMmmSqKx",
    "outputId": "f2b63682-dfaa-4fdd-cb0a-8200bc0b852d"
   },
   "outputs": [],
   "source": [
    "df_seeds['Seed'] = df_seeds['Seed'].apply(lambda x:x[0])\n",
    "\n",
    "submission = submission.merge(df_seeds, left_on=[\"TeamIdA\", \"Season\"], right_on=[\"TeamID\", \"Season\"]).drop('TeamID', axis=1).rename(columns={\"Seed\": \"RegionA\"})\n",
    "submission = submission.merge(df_seeds, left_on=[\"TeamIdB\", \"Season\"], right_on=[\"TeamID\", \"Season\"]).drop('TeamID', axis=1).rename(columns={\"Seed\": \"RegionB\"})\n",
    "submission"
   ]
  },
  {
   "cell_type": "code",
   "execution_count": null,
   "metadata": {
    "id": "OZJlxF9wTvUA"
   },
   "outputs": [],
   "source": [
    "final_submission = submission[['ID', 'Pred']].copy()"
   ]
  },
  {
   "cell_type": "code",
   "execution_count": null,
   "metadata": {},
   "outputs": [],
   "source": [
    "final_submission"
   ]
  },
  {
   "cell_type": "code",
   "execution_count": null,
   "metadata": {
    "id": "UCkh8j4RTwf7"
   },
   "outputs": [],
   "source": [
    "final_submission.to_csv(\"../submission/FirstModel_submission.csv\")"
   ]
  }
 ],
 "metadata": {
  "colab": {
   "provenance": []
  },
  "kernelspec": {
   "display_name": "Python 3 (ipykernel)",
   "language": "python",
   "name": "python3"
  },
  "language_info": {
   "codemirror_mode": {
    "name": "ipython",
    "version": 3
   },
   "file_extension": ".py",
   "mimetype": "text/x-python",
   "name": "python",
   "nbconvert_exporter": "python",
   "pygments_lexer": "ipython3",
   "version": "3.10.7"
  }
 },
 "nbformat": 4,
 "nbformat_minor": 1
}
